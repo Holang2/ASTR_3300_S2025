{
 "cells": [
  {
   "cell_type": "markdown",
   "metadata": {},
   "source": [
    "### ASTR 3300/5300-003: Astrostatistics\n",
    "***N. Pol***\n",
    "___\n",
    "\n",
    "# Homework 3\n",
    "### Due: Friday, Feb 14th at 11.59pm CST\n",
    "---"
   ]
  },
  {
   "cell_type": "markdown",
   "metadata": {},
   "source": [
    "## Only one problem this week\n",
    "\n",
    "This problem uses a dataset in `/coursework/homeworks/hw_data/`.\n",
    "\n",
    "1) Read in `hw3_data_1.npy`. This is a (50 x 2) numpy array, with measurements in the first column and uncertainties in the second column. Using the analytic results for heteroscedastic Gaussian data from lectures, compute the sample mean and the standard error on the sample mean from for this data.\n",
    "\n",
    "2) Reusing some approaches and tools from `Lecture_6`, write a ln-likelihood function for heteroscedastic Gaussian data, and use it in a fitting algorithm to find the best-fit mean. *Remember that scipy optimizers are set up to minimize functions.*\n",
    "\n",
    "3) Using the same numerical technique from `Lecture_5`, compute the Fisher uncertainty estimate on the mean.\n",
    "\n",
    "4) Using the bootstrap method, generate $1000$ bootstrap realizations of this dataset. *DO NOT use the `astroML` code. Write your own bootstrap function from scratch. Also recall that when resampling data, measurements and uncertainties should stay paired together.*\n",
    "\n",
    "5) Repeat (2) with all $1000$ boostrap datasets to find the distribution of the sample mean. Plot a normalized histogram of these bootstrap means, and overplot a Gaussian pdf with the mean and std found in (1). Do these agree?\n",
    "\n",
    "6) While we have fitted a heteroscedastic Gaussian to this data, let's try something else. Write some code to define a ln-likelihood for a Laplace distribution evaluated on this data. Fit simultaneously for the Laplace location parameter $\\mu$ and scale parameter $\\Delta$.\n",
    "\n",
    "7) Compute the AIC values for the heteroscedastic Gaussian model and the Laplacian model. Which model is favored by the data?\n",
    "\n",
    "8) Using the $1000$ bootstrap datasets from before, fit for the Laplacian $\\mu$ and $\\Delta$ for each. Make a nice `corner` plot of the distributions of $\\mu$ and $\\Delta$ that shows both the marginal $1$D distributions and the joint $2$D distribution. Make sure the plot has labels, shows the titles on each $1$D marginal panel, and has $68\\%$ and $95\\%$ levels.\n",
    "\n",
    "9) Let's finish with a Fisher uncertainty estimate of the Laplacian parameters. Use the following code to install `numdifftools` which provides a simple way to compute derivatives. We can then compute the Hessian matrix, which is the matrix of the second derivatives of the user's function. This should be computed at the best-fit Laplacian parameters $\\mu$ and $\\Delta$. To finish, invert the matrix, and then take the square root. The diagonal entries will then be the Fisher uncertainties on $\\mu$ and $\\Delta$. How does these compare to the bootstrap distribution widths found in (8)?"
   ]
  },
  {
   "cell_type": "code",
   "execution_count": 129,
   "metadata": {},
   "outputs": [
    {
     "name": "stdout",
     "output_type": "stream",
     "text": [
      "Requirement already satisfied: numdifftools in /opt/anaconda3/envs/ASTR3300_pt1/lib/python3.13/site-packages (0.9.41)\n",
      "Requirement already satisfied: numpy>=1.9 in /opt/anaconda3/envs/ASTR3300_pt1/lib/python3.13/site-packages (from numdifftools) (2.2.1)\n",
      "Requirement already satisfied: scipy>=0.8 in /opt/anaconda3/envs/ASTR3300_pt1/lib/python3.13/site-packages (from numdifftools) (1.15.1)\n"
     ]
    }
   ],
   "source": [
    "!pip install numdifftools"
   ]
  },
  {
   "cell_type": "code",
   "execution_count": 130,
   "metadata": {},
   "outputs": [
    {
     "ename": "NameError",
     "evalue": "name 'f_lnlaplace' is not defined",
     "output_type": "error",
     "traceback": [
      "\u001b[0;31m---------------------------------------------------------------------------\u001b[0m",
      "\u001b[0;31mNameError\u001b[0m                                 Traceback (most recent call last)",
      "Cell \u001b[0;32mIn[130], line 2\u001b[0m\n\u001b[1;32m      1\u001b[0m \u001b[38;5;28;01mimport\u001b[39;00m\u001b[38;5;250m \u001b[39m\u001b[38;5;21;01mnumdifftools\u001b[39;00m\u001b[38;5;250m \u001b[39m\u001b[38;5;28;01mas\u001b[39;00m\u001b[38;5;250m \u001b[39m\u001b[38;5;21;01mnd\u001b[39;00m\n\u001b[0;32m----> 2\u001b[0m H \u001b[38;5;241m=\u001b[39m nd\u001b[38;5;241m.\u001b[39mHessian(\u001b[43mf_lnlaplace\u001b[49m)([beta_laplace[\u001b[38;5;241m0\u001b[39m], beta_laplace[\u001b[38;5;241m1\u001b[39m]])\n\u001b[1;32m      3\u001b[0m sigma_laplace \u001b[38;5;241m=\u001b[39m np\u001b[38;5;241m.\u001b[39mlinalg\u001b[38;5;241m.\u001b[39minv(H)\u001b[38;5;241m*\u001b[39m\u001b[38;5;241m*\u001b[39m\u001b[38;5;241m0.5\u001b[39m\n",
      "\u001b[0;31mNameError\u001b[0m: name 'f_lnlaplace' is not defined"
     ]
    }
   ],
   "source": [
    "import numdifftools as nd\n",
    "H = nd.Hessian(f_lnlaplace)([beta_laplace[0], beta_laplace[1]])\n",
    "sigma_laplace = np.linalg.inv(H)**0.5"
   ]
  },
  {
   "cell_type": "markdown",
   "metadata": {},
   "source": [
    "### Solution"
   ]
  },
  {
   "cell_type": "code",
   "execution_count": 131,
   "metadata": {},
   "outputs": [
    {
     "name": "stdout",
     "output_type": "stream",
     "text": [
      "the mean is 3.9179920346060557 and the standard error of the mean is 0.09481084100510956\n"
     ]
    }
   ],
   "source": [
    "import numpy as np\n",
    "import scipy\n",
    "import scipy.stats\n",
    "from matplotlib import pyplot as plt\n",
    "\n",
    "# --------------------------------------------------------------------------\n",
    "# PART 1\n",
    "\n",
    "data = np.load('/Users/katiebarnhart/Downloads/hw3_data_1.npy')\n",
    "# print(data) # hangon i need to split this \n",
    "\n",
    "justdata = []\n",
    "for i in data:\n",
    "    justdata.append(i[0])\n",
    "justuncert = []\n",
    "for j in data:\n",
    "    justuncert.append(j[1])\n",
    "\n",
    "# oops arrays\n",
    "justdata = np.array(justdata)\n",
    "justuncert = np.array(justuncert)\n",
    "\n",
    "# from lecture 5 \"MLE applied to a heteroscedastic Gaussian\"\n",
    "meanA = np.sum(justdata/(justuncert**2)) / np.sum(1/justuncert**2)\n",
    "sigmaE = 1 / (np.sqrt(np.sum(1/justuncert**2)))\n",
    "print('the mean is', meanA, 'and the standard error of the mean is', sigmaE)\n"
   ]
  },
  {
   "cell_type": "code",
   "execution_count": 133,
   "metadata": {},
   "outputs": [
    {
     "name": "stdout",
     "output_type": "stream",
     "text": [
      "Optimization terminated successfully.\n",
      "         Current function value: 43.160297\n",
      "         Iterations: 57\n",
      "         Function evaluations: 111\n",
      "hello this is the real one 1.3860244997380613\n"
     ]
    }
   ],
   "source": [
    "# --------------------------------------------------------------------------\n",
    "# PART 2\n",
    "\n",
    "def LnLikelihood(DataA, DataUncerts, mu):\n",
    "    numerator = np.log(2 * np.pi * DataUncerts**2) + (DataA - mu)**2\n",
    "    denominator = 2 * DataUncerts**2\n",
    "    calculation = -np.sum(numerator/denominator) \n",
    "    return calculation\n",
    "\n",
    "# best-fit mean. What does this actually mean? are we supposed to find a best-fit line? \n",
    "\n",
    "xgrid = np.linspace(0, 7, 100)\n",
    "# Anyway, from lecture 6, \"How do we deal with outliers: modifying the likelihood\"\n",
    "# Define the log-likelihood via the Huber loss function\n",
    "def huber_loss(m, b, x, y, dy, c=6):\n",
    "    y_fit = m * xgrid + b # model\n",
    "    t = abs((y - y_fit) / dy) # define t\n",
    "    mask = t > c # define mask for large excursion points\n",
    "    \n",
    "    # apply masking to different points\n",
    "    # note '~' means 'not'\n",
    "    return np.sum((~mask) * (0.5 * t ** 2) - \\\n",
    "                  (mask) * c * (0.5 * c - t), -1)\n",
    "\n",
    "# lambda function for huber loss \n",
    "f_huber = lambda beta: huber_loss(beta[0], beta[1], xgrid, justdata, justuncert, c=6)\n",
    "\n",
    "# compute the maximum likelihood using the huber loss\n",
    "beta0 = (1, 30)\n",
    "beta_huber = scipy.optimize.fmin(f_huber, beta0)\n",
    "\n",
    "\"\"\"\n",
    "# hist for funzies\n",
    "plt.scatter(xgrid, justdata)\n",
    "plt.plot(xgrid, beta_huber[0] * xgrid + beta_huber[1]) #y = mx + b\n",
    "# that worked\n",
    "\"\"\"\n",
    "# The above seems to be.... mostly wrong?\n",
    "avgData = np.mean(justdata)\n",
    "generated = lambda mu: - LnLikelihood(mu, justdata, justuncert)\n",
    "GaussianGen = scipy.optimize.minimize(generated, avgData)\n",
    "fit = GaussianGen.x[0]\n",
    "print('hello this is the real one', fit) # hmmm but the mean here (1.39) doesn't match pt 1 very closely (3.92)"
   ]
  },
  {
   "cell_type": "code",
   "execution_count": 134,
   "metadata": {},
   "outputs": [
    {
     "name": "stdout",
     "output_type": "stream",
     "text": [
      "Fisher matrix error on estimated mean is 1.151\n"
     ]
    },
    {
     "data": {
      "image/png": "[encoded data removed]",
      "text/plain": [
       "<Figure size 640x480 with 1 Axes>"
      ]
     },
     "metadata": {},
     "output_type": "display_data"
    }
   ],
   "source": [
    "# --------------------------------------------------------------------------\n",
    "# PART 3\n",
    "\n",
    "# The formula for L given in lecture 5 \"MLE applied to a homoscedastic Gaussian\" \n",
    "# does not match the way that L was used in the code in that same notebook\n",
    "# In order to do this numerical method, L needs to be some distribution or dataset\n",
    "\n",
    "# from lecture 5 \n",
    "stdev = np.std(justdata)\n",
    "Gaussian3 = scipy.stats.norm(meanA, stdev)\n",
    "G3PDF = Gaussian3.pdf(xgrid)\n",
    "# print(G3PDF)\n",
    "plt.plot(xgrid, G3PDF)\n",
    "sigma_mu = np.diff(np.log(G3PDF), n=2)\n",
    "sigma_mu /= (xgrid[1]-xgrid[0])**2\n",
    "sigma_mu *= -1\n",
    "sigma_mu = 1/np.sqrt(sigma_mu)[0]\n",
    "print(\"Fisher matrix error on estimated mean is %.3f\" % sigma_mu)"
   ]
  },
  {
   "cell_type": "code",
   "execution_count": 151,
   "metadata": {},
   "outputs": [
    {
     "name": "stdout",
     "output_type": "stream",
     "text": [
      "100\n",
      "(1000, 100)\n"
     ]
    }
   ],
   "source": [
    "# --------------------------------------------------------------------------\n",
    "# PART 4\n",
    "\n",
    "# it was not specified how many samples to draw per iteration\n",
    "print(len(justdata))\n",
    "N = 1000 # number of iteration\n",
    "S = 100 # how many samples per iteration\n",
    "\n",
    "#def boots(N):\n",
    "#    bootstrap = []\n",
    "#    for hh in range(N):\n",
    "#        for j in range(S):\n",
    "#            index = np.random.randint(0, len(justdata))\n",
    "#            bootstrap.append(justdata[index])\n",
    "#    return(bootstrap)\n",
    "\n",
    "#a = boots(N)\n",
    "#print(np.shape(a))\n",
    "#the above had several edits and still wasnt working and I couldnt figure out why. \n",
    "# went to gemini AI, but not sure how to cite other than here\n",
    "\n",
    "bootstrap = []\n",
    "for i in range(N):\n",
    "    realize = np.random.choice(justdata, size = len(justdata), replace = True)\n",
    "    bootstrap.append(realize)\n",
    "    # not sure why we need the uncertainties here? Could do uncertainties separately and avoid errors that happened when I tried to do this together. \n",
    "\n",
    "print(np.shape(bootstrap))\n",
    "# plt.hist(justdataboots, bins = 50, density = True)\n",
    "# print(len(justdataboots))"
   ]
  },
  {
   "cell_type": "code",
   "execution_count": 139,
   "metadata": {},
   "outputs": [
    {
     "data": {
      "text/plain": [
       "Text(0.5, 1.0, 'Bootstrap histogram approximation vs Model Gaussian')"
      ]
     },
     "execution_count": 139,
     "metadata": {},
     "output_type": "execute_result"
    },
    {
     "data": {
      "image/png": "[encoded data removed]",
      "text/plain": [
       "<Figure size 640x480 with 1 Axes>"
      ]
     },
     "metadata": {},
     "output_type": "display_data"
    }
   ],
   "source": [
    "# --------------------------------------------------------------------------\n",
    "# PART 5\n",
    "\"\"\"\n",
    "c = np.array(justdataboots)\n",
    "d = np.array(justuncertboots)\n",
    "newxgrid = np.linspace(-6, 7, 100)\n",
    "avgData_boots = np.mean(a)\n",
    "generated = lambda mu: - LnLikelihood(mu, c, d)\n",
    "GaussianGen2 = scipy.optimize.minimize(generated, avgData_boots)\n",
    "fitb = GaussianGen2.x[0]\n",
    "print(fitb)\n",
    "# plots\n",
    "Model_Gauss = scipy.stats.norm(fitb, stdev)\n",
    "Model_PDF = Model_Gauss.pdf(newxgrid)\n",
    "plt.plot(newxgrid, Model_PDF)\n",
    "\"\"\"\n",
    "#above was not working. left it in. \n",
    "bData = np.array(bootstrap)\n",
    "averages = []\n",
    "for i in range(N):\n",
    "    averages.append(bData[i].mean())\n",
    "\n",
    "pt5xgrid = np.linspace(-1, 9, 100)\n",
    "Gaaa = scipy.stats.norm.pdf(pt5xgrid, meanA, stdev)\n",
    "plt.hist(averages, bins = 50, density = True)\n",
    "plt.plot(pt5xgrid, Gaaa)\n",
    "# well thats a bit different\n",
    "plt.title('Bootstrap histogram approximation vs Model Gaussian')"
   ]
  },
  {
   "cell_type": "code",
   "execution_count": 140,
   "metadata": {},
   "outputs": [
    {
     "name": "stdout",
     "output_type": "stream",
     "text": [
      "4.085951746169762 0.882269246180275\n"
     ]
    }
   ],
   "source": [
    "# --------------------------------------------------------------------------\n",
    "# PART 6\n",
    "\n",
    "# laplace distro has a slightly different scale parameter\n",
    "\n",
    "def LnL_Laplace(duals, justdata): \n",
    "    mu, beta = duals\n",
    "    LnL = - np.sum(np.log(2 * beta) + np.abs(justdata-mu) / beta)\n",
    "    return(LnL)\n",
    "\n",
    "\n",
    "generated = lambda duals: - LnL_Laplace(duals, justdata)\n",
    "l = scipy.optimize.minimize(generated, [np.mean(justdata), stdev])\n",
    "fitmu = l.x[0]\n",
    "fitbeta = l.x[1]\n",
    "print(fitmu, fitbeta)\n",
    "# tried to pass two args to the lambda function but couldn't figure out the syntax\n",
    "# had to bother classmates to get this: Thanks Anthony and Joel"
   ]
  },
  {
   "cell_type": "code",
   "execution_count": 141,
   "metadata": {},
   "outputs": [
    {
     "name": "stdout",
     "output_type": "stream",
     "text": [
      "<class 'list'>\n",
      "956.1113783739572 317.7015436933864\n"
     ]
    }
   ],
   "source": [
    "# --------------------------------------------------------------------------\n",
    "# PART 7\n",
    "kg = 1\n",
    "kl = 2\n",
    "LLL = [fitmu, fitbeta]\n",
    "print(type(LLL))\n",
    "LLLL = np.array(LLL)\n",
    "\n",
    "# from lecture 6\n",
    "AIC_Gaussian = -2 * LnLikelihood(justdata, justuncert, fit) + 2*kg + ((2*kg*(kg + 1))/(N - kg - 1))\n",
    "AIC_Laplacian = -2 * LnL_Laplace(LLL, justdata) + 2*kl + ((2*kl*(kl + 1))/(100 - kl - 1))\n",
    "\n",
    "print(AIC_Gaussian, AIC_Laplacian) \n",
    "# What the heck? Alright I've checked both likelihood functions and can't find anything wrong\n",
    "# but there's gotta be something going sideways. \n"
   ]
  },
  {
   "cell_type": "code",
   "execution_count": 148,
   "metadata": {},
   "outputs": [
    {
     "name": "stdout",
     "output_type": "stream",
     "text": [
      "3.9351385311345277 1.1507206049948653\n"
     ]
    }
   ],
   "source": [
    "# --------------------------------------------------------------------------\n",
    "# PART 8\n",
    "\n",
    "import corner\n",
    "\n",
    "generated = lambda duals: - LnL_Laplace(duals, bootstrap)\n",
    "l = scipy.optimize.minimize(generated, [np.mean(bootstrap), stdev])\n",
    "fitmu = l.x[0]\n",
    "fitbeta = l.x[1]\n",
    "print(fitmu, fitbeta) # well the optimized bootstrap is close, but I need something to PLOT. \n",
    "# Out of time. \n",
    "\n",
    "#corner.corner()"
   ]
  },
  {
   "cell_type": "code",
   "execution_count": 150,
   "metadata": {},
   "outputs": [
    {
     "ename": "TypeError",
     "evalue": "LnL_Laplace() missing 1 required positional argument: 'justdata'",
     "output_type": "error",
     "traceback": [
      "\u001b[0;31m---------------------------------------------------------------------------\u001b[0m",
      "\u001b[0;31mTypeError\u001b[0m                                 Traceback (most recent call last)",
      "Cell \u001b[0;32mIn[150], line 4\u001b[0m\n\u001b[1;32m      1\u001b[0m \u001b[38;5;66;03m# --------------------------------------------------------------------------\u001b[39;00m\n\u001b[1;32m      2\u001b[0m \u001b[38;5;66;03m# PART 9\u001b[39;00m\n\u001b[0;32m----> 4\u001b[0m H \u001b[38;5;241m=\u001b[39m \u001b[43mnd\u001b[49m\u001b[38;5;241;43m.\u001b[39;49m\u001b[43mHessian\u001b[49m\u001b[43m(\u001b[49m\u001b[43mLnL_Laplace\u001b[49m\u001b[43m)\u001b[49m\u001b[43m(\u001b[49m\u001b[43m[\u001b[49m\u001b[43ml\u001b[49m\u001b[38;5;241;43m.\u001b[39;49m\u001b[43mx\u001b[49m\u001b[43m[\u001b[49m\u001b[38;5;241;43m0\u001b[39;49m\u001b[43m]\u001b[49m\u001b[43m,\u001b[49m\u001b[43m \u001b[49m\u001b[43ml\u001b[49m\u001b[38;5;241;43m.\u001b[39;49m\u001b[43mx\u001b[49m\u001b[43m[\u001b[49m\u001b[38;5;241;43m1\u001b[39;49m\u001b[43m]\u001b[49m\u001b[43m]\u001b[49m\u001b[43m)\u001b[49m \u001b[38;5;66;03m# huh that's weird. It's not working\u001b[39;00m\n\u001b[1;32m      5\u001b[0m sigma_laplace \u001b[38;5;241m=\u001b[39m np\u001b[38;5;241m.\u001b[39mlinalg\u001b[38;5;241m.\u001b[39minv(H)\u001b[38;5;241m*\u001b[39m\u001b[38;5;241m*\u001b[39m\u001b[38;5;241m0.5\u001b[39m\n",
      "File \u001b[0;32m/opt/anaconda3/envs/ASTR3300_pt1/lib/python3.13/site-packages/numdifftools/core.py:538\u001b[0m, in \u001b[0;36mHessdiag.__call__\u001b[0;34m(self, x, *args, **kwds)\u001b[0m\n\u001b[1;32m    537\u001b[0m \u001b[38;5;28;01mdef\u001b[39;00m\u001b[38;5;250m \u001b[39m\u001b[38;5;21m__call__\u001b[39m(\u001b[38;5;28mself\u001b[39m, x, \u001b[38;5;241m*\u001b[39margs, \u001b[38;5;241m*\u001b[39m\u001b[38;5;241m*\u001b[39mkwds):\n\u001b[0;32m--> 538\u001b[0m     \u001b[38;5;28;01mreturn\u001b[39;00m \u001b[38;5;28;43msuper\u001b[39;49m\u001b[43m(\u001b[49m\u001b[43mHessdiag\u001b[49m\u001b[43m,\u001b[49m\u001b[43m \u001b[49m\u001b[38;5;28;43mself\u001b[39;49m\u001b[43m)\u001b[49m\u001b[38;5;241;43m.\u001b[39;49m\u001b[38;5;21;43m__call__\u001b[39;49m\u001b[43m(\u001b[49m\u001b[43mnp\u001b[49m\u001b[38;5;241;43m.\u001b[39;49m\u001b[43matleast_1d\u001b[49m\u001b[43m(\u001b[49m\u001b[43mx\u001b[49m\u001b[43m)\u001b[49m\u001b[43m,\u001b[49m\u001b[43m \u001b[49m\u001b[38;5;241;43m*\u001b[39;49m\u001b[43margs\u001b[49m\u001b[43m,\u001b[49m\u001b[43m \u001b[49m\u001b[38;5;241;43m*\u001b[39;49m\u001b[38;5;241;43m*\u001b[39;49m\u001b[43mkwds\u001b[49m\u001b[43m)\u001b[49m\n",
      "File \u001b[0;32m/opt/anaconda3/envs/ASTR3300_pt1/lib/python3.13/site-packages/numdifftools/core.py:288\u001b[0m, in \u001b[0;36mDerivative.__call__\u001b[0;34m(self, x, *args, **kwds)\u001b[0m\n\u001b[1;32m    286\u001b[0m x_i \u001b[38;5;241m=\u001b[39m np\u001b[38;5;241m.\u001b[39masarray(x)\n\u001b[1;32m    287\u001b[0m \u001b[38;5;28;01mwith\u001b[39;00m np\u001b[38;5;241m.\u001b[39merrstate(divide\u001b[38;5;241m=\u001b[39m\u001b[38;5;124m'\u001b[39m\u001b[38;5;124mignore\u001b[39m\u001b[38;5;124m'\u001b[39m, invalid\u001b[38;5;241m=\u001b[39m\u001b[38;5;124m'\u001b[39m\u001b[38;5;124mignore\u001b[39m\u001b[38;5;124m'\u001b[39m):\n\u001b[0;32m--> 288\u001b[0m     results, f_xi \u001b[38;5;241m=\u001b[39m \u001b[38;5;28;43mself\u001b[39;49m\u001b[38;5;241;43m.\u001b[39;49m\u001b[43m_derivative\u001b[49m\u001b[43m(\u001b[49m\u001b[43mx_i\u001b[49m\u001b[43m,\u001b[49m\u001b[43m \u001b[49m\u001b[43margs\u001b[49m\u001b[43m,\u001b[49m\u001b[43m \u001b[49m\u001b[43mkwds\u001b[49m\u001b[43m)\u001b[49m\n\u001b[1;32m    289\u001b[0m     derivative, info \u001b[38;5;241m=\u001b[39m \u001b[38;5;28mself\u001b[39m\u001b[38;5;241m.\u001b[39m_extrapolate(\u001b[38;5;241m*\u001b[39mresults)\n\u001b[1;32m    290\u001b[0m \u001b[38;5;28;01mif\u001b[39;00m \u001b[38;5;28mself\u001b[39m\u001b[38;5;241m.\u001b[39mfull_output:\n",
      "File \u001b[0;32m/opt/anaconda3/envs/ASTR3300_pt1/lib/python3.13/site-packages/numdifftools/core.py:237\u001b[0m, in \u001b[0;36mDerivative._derivative_nonzero_order\u001b[0;34m(self, x_i, args, kwds)\u001b[0m\n\u001b[1;32m    235\u001b[0m diff, f \u001b[38;5;241m=\u001b[39m \u001b[38;5;28mself\u001b[39m\u001b[38;5;241m.\u001b[39m_get_functions(args, kwds)\n\u001b[1;32m    236\u001b[0m steps, step_ratio \u001b[38;5;241m=\u001b[39m \u001b[38;5;28mself\u001b[39m\u001b[38;5;241m.\u001b[39m_get_steps(x_i)\n\u001b[0;32m--> 237\u001b[0m fxi \u001b[38;5;241m=\u001b[39m \u001b[38;5;28;43mself\u001b[39;49m\u001b[38;5;241;43m.\u001b[39;49m\u001b[43m_eval_first\u001b[49m\u001b[43m(\u001b[49m\u001b[43mf\u001b[49m\u001b[43m,\u001b[49m\u001b[43m \u001b[49m\u001b[43mx_i\u001b[49m\u001b[43m)\u001b[49m\n\u001b[1;32m    238\u001b[0m results \u001b[38;5;241m=\u001b[39m [diff(f, fxi, x_i, h) \u001b[38;5;28;01mfor\u001b[39;00m h \u001b[38;5;129;01min\u001b[39;00m steps]\n\u001b[1;32m    240\u001b[0m \u001b[38;5;28mself\u001b[39m\u001b[38;5;241m.\u001b[39mset_richardson_rule(step_ratio, \u001b[38;5;28mself\u001b[39m\u001b[38;5;241m.\u001b[39mrichardson_terms)\n",
      "File \u001b[0;32m/opt/anaconda3/envs/ASTR3300_pt1/lib/python3.13/site-packages/numdifftools/core.py:282\u001b[0m, in \u001b[0;36mDerivative._eval_first\u001b[0;34m(self, f, x)\u001b[0m\n\u001b[1;32m    280\u001b[0m     \u001b[38;5;28;01mreturn\u001b[39;00m f_x\n\u001b[1;32m    281\u001b[0m \u001b[38;5;28;01mif\u001b[39;00m \u001b[38;5;28mself\u001b[39m\u001b[38;5;241m.\u001b[39mfd_rule\u001b[38;5;241m.\u001b[39meval_first_condition \u001b[38;5;129;01mor\u001b[39;00m \u001b[38;5;28mself\u001b[39m\u001b[38;5;241m.\u001b[39mfull_output:\n\u001b[0;32m--> 282\u001b[0m     \u001b[38;5;28;01mreturn\u001b[39;00m \u001b[43mf\u001b[49m\u001b[43m(\u001b[49m\u001b[43mx\u001b[49m\u001b[43m)\u001b[49m\n\u001b[1;32m    283\u001b[0m \u001b[38;5;28;01mreturn\u001b[39;00m \u001b[38;5;241m0.0\u001b[39m\n",
      "File \u001b[0;32m/opt/anaconda3/envs/ASTR3300_pt1/lib/python3.13/site-packages/numdifftools/core.py:257\u001b[0m, in \u001b[0;36mDerivative._get_functions.<locals>.export_fun\u001b[0;34m(x)\u001b[0m\n\u001b[1;32m    256\u001b[0m \u001b[38;5;28;01mdef\u001b[39;00m\u001b[38;5;250m \u001b[39m\u001b[38;5;21mexport_fun\u001b[39m(x):\n\u001b[0;32m--> 257\u001b[0m     \u001b[38;5;28;01mreturn\u001b[39;00m \u001b[43mfun\u001b[49m\u001b[43m(\u001b[49m\u001b[43mx\u001b[49m\u001b[43m,\u001b[49m\u001b[43m \u001b[49m\u001b[38;5;241;43m*\u001b[39;49m\u001b[43margs\u001b[49m\u001b[43m,\u001b[49m\u001b[43m \u001b[49m\u001b[38;5;241;43m*\u001b[39;49m\u001b[38;5;241;43m*\u001b[39;49m\u001b[43mkwds\u001b[49m\u001b[43m)\u001b[49m\n",
      "\u001b[0;31mTypeError\u001b[0m: LnL_Laplace() missing 1 required positional argument: 'justdata'"
     ]
    }
   ],
   "source": [
    "# --------------------------------------------------------------------------\n",
    "# PART 9\n",
    "\n",
    "H = nd.Hessian(LnL_Laplace)([l.x[0], l.x[1]]) # huh that's weird. It's not working\n",
    "sigma_laplace = np.linalg.inv(H)**0.5"
   ]
  },
  {
   "cell_type": "code",
   "execution_count": null,
   "metadata": {},
   "outputs": [],
   "source": []
  }
 ],
 "metadata": {
  "anaconda-cloud": {},
  "kernelspec": {
   "display_name": "Python [conda env:ASTR3300_pt1] *",
   "language": "python",
   "name": "conda-env-ASTR3300_pt1-py"
  },
  "language_info": {
   "codemirror_mode": {
    "name": "ipython",
    "version": 3
   },
   "file_extension": ".py",
   "mimetype": "text/x-python",
   "name": "python",
   "nbconvert_exporter": "python",
   "pygments_lexer": "ipython3",
   "version": "3.13.1"
  }
 },
 "nbformat": 4,
 "nbformat_minor": 4
}
