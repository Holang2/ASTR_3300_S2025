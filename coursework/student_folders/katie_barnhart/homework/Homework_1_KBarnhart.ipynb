{
 "cells": [
  {
   "cell_type": "markdown",
   "metadata": {},
   "source": [
    "### ASTR 3300/5300-003: Astrostatistics\n",
    "***N. Pol***\n",
    "___\n",
    "\n",
    "# Homework 1\n",
    "### Due: By 11:59 pm, Friday, January 31, 2025\n",
    "---"
   ]
  },
  {
   "cell_type": "markdown",
   "metadata": {},
   "source": [
    "## Problem 1\n",
    "\n",
    "Practice your git and GitHub skills by submitting this homework via GitHub.  You can skip Steps 1-4 if you have already completed the in-class work of Lecture 1.  Steps 5-11 are the new steps.  \n",
    "\n",
    "1) Navigate to https://github.com/NihanPol/ASTR_3300_S2025 on your browser. **Don't clone this!** Instead, look to the rop right of the page for an option to fork the repository. Do this now. This will make a copy of the class repository for your own personal use.\n",
    "\n",
    "2) Now that you have a fork of the repository, clone it to your machine.\n",
    "\n",
    "    $ git clone https://github.com/YOUR_USERNAME/ASTR_3300_S2025\n",
    "\n",
    "3) Add the original ASTR3300 repository as an `upstream` repository to your fork. First, list the current configured remote repository for your fork with:\n",
    "\n",
    "    $ git remote -v\n",
    "    \n",
    "Now, add my repo as an upstream:\n",
    "\n",
    "    $ git remote add upstream https://github.com/NihanPol/ASTR_3300_S2025\n",
    "    \n",
    "Verify that the new repository shows as an `upstream` by running `git remote -v` again.\n",
    "\n",
    "4) Get used to syncing upstream content to your fork with:\n",
    "\n",
    "    $ git fetch upstream\n",
    "    \n",
    "    $ git checkout main\n",
    "    \n",
    "    $ git merge upstream/main\n",
    "\n",
    "5) Now, navigate to `coursework/student_folders` folder. Make a folder in here labeled by your name in all lowercase(i.e. `firstname_lastname`).\n",
    "\n",
    "6) In your folder, make two folders, one called `class_participation` and one called `homework`.\n",
    "\n",
    "7) Copy your completed lecture notebooks (with all exercises in red finished) to your `class_participation` folder, adding your name to the file (e.g. `Lecture_1b_FirstnameLastname.ipynb`). This is what you will do for each week's lecture notebooks to get participation credit. Your lecture notebooks should have already been copies of my base lecture notebooks. **Never** run my base notebooks; always make a personal copy for yourself.\n",
    "\n",
    "8) Copy the **Homework 1** notebook (this file) to your `homework` folder, adding your name (e.g. `Homework_1_FirstnameLastname.ipynb`) \n",
    "\n",
    "9) Complete the other problems listed below.\n",
    "\n",
    "10) Submit your homework as follows (making sure that your added files are contained within your student folder):\n",
    "\n",
    "    $ git add path/to/Homework_1_FirstnameLastname.ipynb\n",
    "    \n",
    "    $ git commit -m \"Uploaded Homework 1\"\n",
    "    \n",
    "    $ git push\n",
    "   \n",
    "11) Similarly add, commit, and push your completed lecture notebooks. \n",
    "\n",
    "12) On your browser, navigate on GitHub to your fork of the course repository. You should see an option to initiate a `pull request` to merge your changes into the `main` repository. Your homework and lecture notebooks for the week are submitted when you initiate this pull request."
   ]
  },
  {
   "cell_type": "markdown",
   "metadata": {},
   "source": [
    "## Problem 2\n",
    "\n"
   ]
  },
  {
   "cell_type": "markdown",
   "metadata": {},
   "source": [
    "Consider a family with two children. Assume that the probability of females and males being born is equal, i.e. $p(F)=0.5$ and $p(M)=0.5$. Remember that \"given\" means your calculation is conditioned on some already fixed data or outcome. \n",
    "\n",
    "1) What is the probability of one male and one female **GIVEN** that the first child is male. \n",
    "\n",
    "2) What is the probability of two females **GIVEN** that at least one child is female.\n",
    "\n",
    "3) What is the probability of two females **GIVEN** that the older child is female.\n",
    "\n",
    "You will find it easiest to answer these questions by sketching a \"tree diagram\" to visualize the options for the oldest child, and the branching options for the youngest child. \n",
    "\n",
    "Either write your solution as Markdown/Latex below, or paste in a scanned image of your handwritten solution."
   ]
  },
  {
   "cell_type": "markdown",
   "metadata": {},
   "source": [
    "### Solution"
   ]
  },
  {
   "cell_type": "markdown",
   "metadata": {},
   "source": [
    "1) *(To get you started)* If the first child is male, then the only unknown is the sex of the second child. We want the second child to be female, which has a probability of 0.5. Thus, $p(F,M |C_1=M) = 0.5$. \n",
    "\n",
    "2) Let's list the ways that at least one child is female:\n",
    "\n",
    "Older: m\n",
    "Younger: f\n",
    "\n",
    "Older:f \n",
    "Younger: f\n",
    "\n",
    "Older: f\n",
    "Younger: m\n",
    "\n",
    "Probability of two females given that at least one child is female: $p = 0.333$ \n",
    "\n",
    "3) What is the probability of two females given that the older child is female: $p = 0.5$"
   ]
  },
  {
   "cell_type": "markdown",
   "metadata": {},
   "source": [
    "## Problem 3\n",
    "\n",
    "1) Use `numpy` to draw $1000$ random samples from a uniform distribution between $0.1$ and $10$, and store these samples as $x$.\n",
    "\n",
    "2) Use matplotlib to make a histogram of these samples. Try to make this as aesthetically pleasing as possible (within reason).\n",
    "\n",
    "3) Compute the base-10 log of your array $x$, and store this as $y$.\n",
    "\n",
    "4) Make another histogram for $y$. Using the equation to transform probability distributions in `Lecture_2`, write here what the theoretical pdf of $y$ is, and overplot it onto your histogram.\n",
    "\n",
    "5) Compute the mean of $x$ and the mean of $y$. Now compute the median of $x$ and the median of $y$. You should note that the means are different, but the medians (as it is a cumulative statistic) are the same. The mean is affected by the scale of the sample values, but the median only depends on the ordering of the samples. Monotonic transformations (like taking the log) do not change the ordering of samples."
   ]
  },
  {
   "cell_type": "markdown",
   "metadata": {},
   "source": [
    "### Solution"
   ]
  },
  {
   "cell_type": "code",
   "execution_count": 38,
   "metadata": {},
   "outputs": [
    {
     "data": {
      "text/plain": [
       "Text(0.5, 1.0, 'A Sample of A Uniform Distribution')"
      ]
     },
     "execution_count": 38,
     "metadata": {},
     "output_type": "execute_result"
    },
    {
     "data": {
      "image/png": "[encoded data removed]",
      "text/plain": [
       "<Figure size 640x480 with 1 Axes>"
      ]
     },
     "metadata": {},
     "output_type": "display_data"
    }
   ],
   "source": [
    "# Problem 3, parts 1 and 2, and some of part 3\n",
    "\n",
    "import numpy as np\n",
    "import matplotlib\n",
    "from matplotlib import pyplot as plt\n",
    "%matplotlib inline\n",
    "import scipy.stats\n",
    "from scipy.stats import uniform\n",
    "\n",
    "x = np.random.uniform(0.1, 10.0, 1000)\n",
    "y = np.log10(x)\n",
    "\n",
    "# get the pdf of y\n",
    "xgrid = np.linspace(0.1, 10, 1000)\n",
    "ygrid = np.linspace(np.log10(0.1), np.log10(10)) # even spacing from the small end of y to the big end\n",
    "prob_dist_y = (10**ygrid) * np.log(10) * 10 / (10.0-0.1) # note to self this comes from the very last equations from the Lecture 2 notebook \n",
    "\n",
    "# plot \n",
    "matplotlib.rc('lines', linewidth = 1)\n",
    "# matplotlib.rc('axes', labelweight = 3) #that's not doing anything right now\n",
    "plt.hist(x, bins = 200, color = 'darkcyan'); # if density = True, then this will give a number density instead of count\n",
    "plt.xlim(xmin = 0.1, xmax = 10)\n",
    "plt.xlabel('$Value$')\n",
    "plt.ylabel('$Count$')\n",
    "plt.title('A Sample of A Uniform Distribution')\n",
    "\n"
   ]
  },
  {
   "cell_type": "code",
   "execution_count": 40,
   "metadata": {},
   "outputs": [
    {
     "data": {
      "text/plain": [
       "[<matplotlib.lines.Line2D at 0x16c62d590>]"
      ]
     },
     "execution_count": 40,
     "metadata": {},
     "output_type": "execute_result"
    },
    {
     "data": {
      "image/png": "[encoded data removed]",
      "text/plain": [
       "<Figure size 640x480 with 1 Axes>"
      ]
     },
     "metadata": {},
     "output_type": "display_data"
    }
   ],
   "source": [
    "# Problem 3, parts 3 and 4\n",
    "\n",
    "plt.hist(y, bins = 200, color = 'rosybrown');\n",
    "plt.xlabel('$y$')\n",
    "plt.ylabel('$Count$')\n",
    "plt.title('y and non-normalized PDF')\n",
    "\n",
    "plt.plot(ygrid, prob_dist_y, color = 'red')"
   ]
  },
  {
   "cell_type": "code",
   "execution_count": 39,
   "metadata": {},
   "outputs": [
    {
     "name": "stdout",
     "output_type": "stream",
     "text": [
      "The median of x is 5.15993311519469\n",
      "The median of y is 5.1599216634853295\n",
      "The mean of x is 5.202284655310806\n",
      "The mean of y is 4.054828878921167\n"
     ]
    }
   ],
   "source": [
    "# Problem 3 part 5\n",
    "# means and medians of x and y, nice and simple with no function calls \n",
    "\n",
    "medianx = np.median(x)\n",
    "mediany = 10**np.median(y)\n",
    "print('The median of x is', medianx)\n",
    "print('The median of y is', mediany)\n",
    "\n",
    "meanx = np.mean(x)\n",
    "meany = 10**np.mean(y)\n",
    "print('The mean of x is', meanx)\n",
    "print('The mean of y is', meany)\n"
   ]
  },
  {
   "cell_type": "code",
   "execution_count": null,
   "metadata": {},
   "outputs": [],
   "source": []
  }
 ],
 "metadata": {
  "anaconda-cloud": {},
  "kernelspec": {
   "display_name": "Python [conda env:ASTR3300_pt1] *",
   "language": "python",
   "name": "conda-env-ASTR3300_pt1-py"
  },
  "language_info": {
   "codemirror_mode": {
    "name": "ipython",
    "version": 3
   },
   "file_extension": ".py",
   "mimetype": "text/x-python",
   "name": "python",
   "nbconvert_exporter": "python",
   "pygments_lexer": "ipython3",
   "version": "3.13.1"
  }
 },
 "nbformat": 4,
 "nbformat_minor": 4
}
