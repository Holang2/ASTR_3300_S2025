{
 "cells": [
  {
   "cell_type": "markdown",
   "metadata": {
    "slideshow": {
     "slide_type": "slide"
    }
   },
   "source": [
    "# Bayesian Statistical Inference: II\n",
    "\n",
    "*N. Pol (2025)*\n",
    "\n",
    "Material in this lecture and notebook is based upon the \"Introduction To Bayesian Inference\" lectures of A. Connolly's & Ž. Ivezić's \"Astrostatistics & Machine Learning\" class at the University of Washington (ASTR 598, https://github.com/dirac-institute/uw-astr598-w18). Also the \"Inference\" and \"Inference2\" lectures of G. Richards' \"Astrostatistics\" class at Drexel University (PHYS 440/540, https://github.com/gtrichards/PHYS_440_540), Karen Leighly's [Bayesian Stats](http://seminar.ouml.org/lectures/bayesian-statistics/), and J. Bovy's mini-course on \"Statistics & Inference in Astrophysics\" at the University of Toronto (http://astro.utoronto.ca/~bovy/teaching.html). \n",
    "\n",
    "##### Reading:\n",
    "\n",
    "- [Textbook](http://press.princeton.edu/titles/10159.html) Chapter 5.\n",
    "- [Jake VanderPlas's workshop \"Bayesian Astronomy\"](https://github.com/jakevdp/BayesianAstronomy)\n",
    "- [Jake VanderPlas's blog \"Frequentism and Bayesianism: A Practical Introduction\"](http://jakevdp.github.io/blog/2014/03/11/frequentism-and-bayesianism-a-practical-intro/)\n",
    "\n",
    "\n",
    "##### Highly recommended supplemental background reading:\n",
    "\n",
    "- [David Hogg's \"Fitting A Model To Data\"](https://arxiv.org/abs/1008.4686)\n",
    "- [Jake VanderPlas: \"Frequentism and Bayesianism: A Python-driven Primer\"](https://arxiv.org/abs/1411.5018)\n",
    "\n",
    "\n",
    "##### For those who want to dive deep:\n",
    "\n",
    "- [D. Sivia and J. Skilling: \"Data Analysis: A Bayesian Tutorial\"](https://www.amazon.com/Data-Analysis-Bayesian-Devinderjit-Sivia/dp/0198568320)\n",
    "- [E.T. Jaynes: \"Probability Theory: The Logic of Science\"](http://bayes.wustl.edu/etj/prob/book.pdf)\n",
    "- [E.T. Jaynes: \"Confidence Intervals vs. Bayesian intervals\"](http://bayes.wustl.edu/etj/articles/confidence.pdf)\n",
    "- [This great explanation of confidence levels versus credible regions on Stackexchange](https://stats.stackexchange.com/questions/2272/whats-the-difference-between-a-confidence-interval-and-a-credible-interval/2287#2287)\n",
    "\n",
    "---\n",
    "\n",
    "## Contents\n",
    "* [Simple parameter estimation examples](#one)\n",
    "    * [Underlying Gaussian distribution with heteroscedastic Gaussian uncertainties](#onea)\n",
    "    * [Gaussian distribution embedded in a uniform background distribution](#oneb)\n",
    "* [Bayesian Model Comparison](#two)\n",
    "    * [Example of Cauchy Versus Gaussian Model Comparison](#twoa)\n",
    "    * [Example of Coin Flip Bayesian Model Comparison](#twob)\n",
    "* [Approximate Bayesian Model Comparison & Information Criterion Proxies](#three)\n",
    "\n",
    "\n",
    "---\n",
    "\n",
    "\n",
    "***Exercises required for class participation are in <font color='red'>red</font>.***\n",
    "\n",
    "---"
   ]
  },
  {
   "cell_type": "markdown",
   "metadata": {
    "slideshow": {
     "slide_type": "slide"
    }
   },
   "source": [
    "## Simple parameter estimation examples <a class=\"anchor\" id=\"one\"></a>\n",
    "\n",
    "### Underlying Gaussian distribution with heteroscedastic Gaussian uncertainties <a class=\"anchor\" id=\"onea\"></a>\n",
    "\n",
    "The final example we saw in the previous lecture dealt with Bayesian parameter estimation of a Gaussian distribution, for $\\mu$ and $\\sigma$. **But what if the values we measure $\\{x_i\\}$ also have a measurement uncertainty?** We're dealing with two levels of spread then:\n",
    "\n",
    "- the underlying distribution spread, $\\sigma$, and \n",
    "- the measurement uncertainties of the data, $\\{e_i\\}$\n",
    "\n",
    "The measurement uncertainties further blur the underlying distribution. In fact, if the uncertainties are homoscedastic, the distribution of $\\{x_i\\}$ will be Gaussian, ***BUT*** **if the uncertainties are heteroscedastic the distribution of $\\{x_i\\}$ will be non-Gaussian!**\n",
    "\n",
    "- The figure below shows a distribution of $10^6$ points drawn from $\\mathcal{N}(0,1)$ and sampled with heteroscedastic Gaussian errors with widths, $e_i$, uniformly distributed between $0$ and $3$. \n",
    "- A linear superposition of these Gaussian distributions with widths equal to $\\sqrt{1 + e_i^2}$ results in a non-Gaussian distribution. \n",
    "- The best-fit Gaussians centered on the sample median with widths equal to sample standard deviation and quartile-based $\\sigma_G$ are shown for comparison.\n",
    "\n",
    "![](https://www.astroml.org/_images/fig_distribution_gaussgauss_1.png)"
   ]
  },
  {
   "cell_type": "markdown",
   "metadata": {},
   "source": [
    "We're trying to find the $\\mu$ and $\\sigma$ parameters of the underlying distribution. With uniform priors on each, the log-posterior pdf can be written as\n",
    "\n",
    "$$ \\ln p = \\mathrm{constant} - \\frac{1}{2}\\sum_{i=1}^N \\left( \\ln(\\sigma^2+e_i^2) + \\frac{(x_i-\\mu)^2}{(\\sigma^2+e_i^2)} \\right), $$\n",
    "\n",
    "which looks identical to the log-likelihood $\\ln L$ up to a constant due to the uniform priors. We can actually analytically maximize this to find the MAP (maximum a posteriori) value of $\\mu_0$,\n",
    "\n",
    "$$ \\mu_0 = \\frac{\\sum_{i=1}^N x_i / (\\sigma_0^2 + e_i^2)}{\\sum_{i=1}^N 1 / (\\sigma_0^2 + e_i^2)} $$\n",
    "\n",
    "but a closed-form analytic solution for $\\sigma_0$ does not exist. \n",
    "\n",
    "So we resort to numerical methods and just plot $\\ln p$ on a grid. <font color='red'>Execute the following to produce the log-posterior pdf of parameters $\\mu$ and $\\sigma$ of an underlying Gaussian distribution. The dataset has $N=10$ values, drawn from $\\mu=1$, $\\sigma=1$, each measured with an uncertainty drawn from a uniform distribution $0<e_i<3$.</font>"
   ]
  },
  {
   "cell_type": "code",
   "execution_count": null,
   "metadata": {},
   "outputs": [],
   "source": [
    "# Execute this cell\n",
    "import numpy as np\n",
    "from matplotlib import pyplot as plt\n",
    "%matplotlib inline\n",
    "%config InlineBackend.figure_format='retina'\n",
    "\n",
    "import numpy as np\n",
    "from matplotlib import pyplot as plt\n",
    "from scipy.stats import norm\n",
    "np.random.seed(42)\n",
    "\n",
    "%run ./scripts/fig_likelihood_gaussgauss.py"
   ]
  },
  {
   "cell_type": "markdown",
   "metadata": {},
   "source": [
    "<font color='red'>By eye, are $\\mu=1$, $\\sigma=1$ the MAP parameter values? If not, is this a problem? Discuss.</font>"
   ]
  },
  {
   "cell_type": "markdown",
   "metadata": {},
   "source": [
    "**Key takeaways**\n",
    "- The posterior pdf is not symmetric around $\\mu=1$.\n",
    "- In fact it is consistent within the $99.7\\%$ credible region of having $\\sigma=0$. \n",
    "- The marginal distributions of each parameter would not look Gaussian either.\n",
    "\n",
    "---"
   ]
  },
  {
   "cell_type": "markdown",
   "metadata": {
    "slideshow": {
     "slide_type": "slide"
    }
   },
   "source": [
    "### Gaussian distribution embedded in a uniform background distribution <a class=\"anchor\" id=\"oneb\"></a>\n",
    "\n",
    "What if we wanted to **model the mixture of a Gauassian distribution with a uniform distribution**. When might that be useful?  Well, for example, finding new particles!! The following is from the [Atlas bulletin](https://atlas.cern/updates/feature/higgs-boson) of July 4th, 2018, showing the Higgs boson peak embdded in background noise and other particles.\n",
    "\n",
    "![Atlas Higgs Boson Example](https://cds.cern.ch/record/2627611/files/Higgsto4l.png?subformat=icon-640)\n",
    "\n",
    "Obviously this isn't *exactly* a Gaussian and a uniform distribution, but a line feature superimposed upon a background is the sort of thing that a physicist or astronomer might see and is pretty close to this case for a local region around the feature of interest. <font color='red'>Spend a moment discussing similar problems in your research areas that are like this.</font>\n",
    "\n",
    "Let's assume that \n",
    "- the location parameter, $\\mu$, is known (say from theory) and\n",
    "- the uncertainties in $x_i$ are negligible compared to $\\sigma$.\n",
    "\n",
    "The likelihood of obtaining a single measurement, $x_i$, can be written as a probabilistic mixture of *either* the Gaussian *or* the uniform distribution. Hence, we use the **OR Rule** of probability:\n",
    "\n",
    "$$p(x_i|A,\\mu,\\sigma,I) = \\frac{A}{\\sigma\\sqrt{2\\pi}} \\exp\\left(\\frac{-(x_i-\\mu)^2}{2\\sigma^2}\\right) + \\frac{1-A}{W}.$$\n",
    "\n",
    "- Here the background probability is taken to be $0 < x < W$ and 0 otherwise.  \n",
    "- The feature of interest lies between $0$ and $W$.  \n",
    "- $A$ and $1-A$ are the relative strengths of the two components, which are obviously anti-correlated.  \n",
    "- Note that there will be covariance between $A$ and $\\sigma$. \n",
    "\n",
    "If we adopt a uniform prior in both $A$ and $\\sigma$:\n",
    "\n",
    "$$p(A,\\sigma|I) = C, \\; {\\rm for} \\; 0\\le A<A_{\\rm max} \\; {\\rm and} \\; 0 \\le \\sigma \\le \\sigma_{\\rm max},$$\n",
    "\n",
    "then the posterior pdf is given by\n",
    "\n",
    "$$\\ln [p(A,\\sigma|\\{x_i\\},\\mu,W)] = \\sum_{i=1}^N \\ln \\left[\\frac{A}{\\sigma \\sqrt{2\\pi}} \\exp\\left( \\frac{-(x_i-\\mu)^2}{2\\sigma^2} \\right)  + \\frac{1-A}{W} \\right].$$\n",
    "\n",
    "The example below is for $200$ data points with $A=0.5, \\sigma=1, \\mu=5, W=10$. Specifically, the bottom panel is a result drawn from this distribution and the top panel is the likelihood distribution derived from the data in the bottom panel."
   ]
  },
  {
   "cell_type": "code",
   "execution_count": null,
   "metadata": {},
   "outputs": [],
   "source": [
    "# %load ./scripts/fig_likelihood_gausslin.py\n",
    "# Author: Jake VanderPlas\n",
    "# License: BSD\n",
    "#   The figure produced by this code is published in the textbook\n",
    "#   \"Statistics, Data Mining, and Machine Learning in Astronomy\" (2013)\n",
    "#   For more information, see http://astroML.github.com\n",
    "#   To report a bug or issue, use the following forum:\n",
    "#    https://groups.google.com/forum/#!forum/astroml-general\n",
    "from scipy.stats import truncnorm, uniform\n",
    "from astroML.plotting.mcmc import convert_to_stdev\n",
    "\n",
    "def gausslin_logL(xi, A=0.5, sigma=1.0, mu=5.0, L=10.0):\n",
    "    \"\"\"Equation 5.80: gaussian likelihood with uniform background\"\"\"\n",
    "    xi = np.asarray(xi)\n",
    "\n",
    "    shape = np.broadcast(sigma, A, mu, L).shape\n",
    "\n",
    "    xi = xi.reshape(xi.shape + tuple([1 for s in shape]))\n",
    "\n",
    "    return np.sum(np.log(A * np.exp(-0.5 * ((xi - mu) / sigma) ** 2)\n",
    "                         / (sigma * np.sqrt(2 * np.pi))\n",
    "                         + (1. - A) / L), 0)\n",
    "\n",
    "#------------------------------------------------------------\n",
    "# Define the distribution\n",
    "np.random.seed(0)\n",
    "mu = 5.0\n",
    "sigma = 1.0\n",
    "L = 10.0\n",
    "A = 0.5\n",
    "N = 200\n",
    "\n",
    "xi = np.random.random(N)\n",
    "NA = np.sum(xi < A)\n",
    "\n",
    "dist1 = truncnorm((0 - mu) / sigma, (L - mu) / sigma, mu, sigma)\n",
    "dist2 = uniform(0, 10)\n",
    "\n",
    "xi[:NA] = dist1.rvs(NA)\n",
    "xi[NA:] = dist2.rvs(N - NA)\n",
    "\n",
    "x = np.linspace(-1, 11, 1000)\n",
    "fracA = NA * 1. / N\n",
    "\n",
    "#------------------------------------------------------------\n",
    "# define the (sigma, A) grid and compute logL\n",
    "sigma = np.linspace(0.5, 2, 70)\n",
    "A = np.linspace(0, 1, 70)\n",
    "\n",
    "logL = gausslin_logL(xi, A[:, np.newaxis], sigma)\n",
    "logL -= logL.max()\n",
    "\n",
    "#------------------------------------------------------------\n",
    "# Plot the results\n",
    "fig = plt.figure(figsize=(5, 8))\n",
    "fig.subplots_adjust(bottom=0.07, left=0.11, hspace=0.15, top=0.95)\n",
    "\n",
    "ax = fig.add_subplot(211)\n",
    "plt.imshow(logL, origin='lower', aspect='auto',\n",
    "           extent=(sigma[0], sigma[-1], A[0], A[-1]),\n",
    "           cmap=plt.cm.binary)\n",
    "plt.colorbar().set_label(r'$\\log(L)$')\n",
    "plt.clim(-5, 0)\n",
    "ax.set_xlabel(r'$\\sigma$')\n",
    "ax.set_ylabel(r'$A$')\n",
    "\n",
    "ax.text(0.5, 0.9, r'$L(\\sigma,A)\\ (\\mathrm{Gauss + bkgd},\\ n=200)$',\n",
    "        bbox=dict(ec='k', fc='w', alpha=0.9),\n",
    "        ha='center', va='center', transform=plt.gca().transAxes)\n",
    "\n",
    "ax.contour(sigma, A, convert_to_stdev(logL),\n",
    "           levels=(0.683, 0.955, 0.997),\n",
    "           colors='k')\n",
    "\n",
    "ax2 = plt.subplot(212)\n",
    "ax2.yaxis.set_major_locator(plt.MultipleLocator(0.1))\n",
    "ax2.plot(x, fracA * dist1.pdf(x) + (1. - fracA) * dist2.pdf(x), '-k')\n",
    "ax2.hist(xi, 30, density=True, histtype='stepfilled', fc='gray', alpha=0.5)\n",
    "\n",
    "ax2.set_ylim(0, 0.301)\n",
    "ax2.set_xlim(-1, 11)\n",
    "\n",
    "ax2.set_xlabel('$x$')\n",
    "ax2.set_ylabel('$p(x)$')\n",
    "plt.show()"
   ]
  },
  {
   "cell_type": "markdown",
   "metadata": {
    "slideshow": {
     "slide_type": "slide"
    }
   },
   "source": [
    "A more realistic example might be one where all three parameters are unknown: the location, the width, and the background level. *But that will have to wait until we learn about MCMC numerical techniques.*"
   ]
  },
  {
   "cell_type": "markdown",
   "metadata": {
    "slideshow": {
     "slide_type": "slide"
    }
   },
   "source": [
    "---"
   ]
  },
  {
   "cell_type": "markdown",
   "metadata": {
    "slideshow": {
     "slide_type": "slide"
    }
   },
   "source": [
    "## Bayesian Model Comparison <a class=\"anchor\" id=\"two\"></a>\n",
    "\n",
    "Model comparison and hypothesis testing in Bayesian inference are enormously different from classical/frequentist statistics. ***In Bayesian inference, we probabilistically rank models based on how well they explain the data under our prior knowledge.*** Let's look back at how we assessed goodness-of-fit and model choice in frequentist statistics. \n",
    "\n",
    "Let's use the example from http://jakevdp.github.io/blog/2015/08/07/frequentism-and-bayesianism-5-model-selection/\n",
    "to illustrate some ideas about model selection."
   ]
  },
  {
   "cell_type": "code",
   "execution_count": null,
   "metadata": {
    "slideshow": {
     "slide_type": "slide"
    }
   },
   "outputs": [],
   "source": [
    "#Execute this cell to load all of the modules we'll need and define the data array.\n",
    "from scipy import stats\n",
    "from scipy import optimize\n",
    "\n",
    "# generate (x,y, sigma_y) \"data\" \n",
    "data = np.array([[ 0.42,  0.72,  0.  ,  0.3 ,  0.15,\n",
    "                   0.09,  0.19,  0.35,  0.4 ,  0.54,\n",
    "                   0.42,  0.69,  0.2 ,  0.88,  0.03,\n",
    "                   0.67,  0.42,  0.56,  0.14,  0.2  ],\n",
    "                 [ 0.33,  0.41, -0.25,  0.01, -0.05,\n",
    "                  -0.05, -0.12,  0.26,  0.29,  0.39, \n",
    "                   0.31,  0.42, -0.01,  0.58, -0.2 ,\n",
    "                   0.52,  0.15,  0.32, -0.13, -0.09 ],\n",
    "                 [ 0.1 ,  0.1 ,  0.1 ,  0.1 ,  0.1 ,\n",
    "                   0.1 ,  0.1 ,  0.1 ,  0.1 ,  0.1 ,\n",
    "                   0.1 ,  0.1 ,  0.1 ,  0.1 ,  0.1 ,\n",
    "                   0.1 ,  0.1 ,  0.1 ,  0.1 ,  0.1  ]])"
   ]
  },
  {
   "cell_type": "code",
   "execution_count": null,
   "metadata": {
    "slideshow": {
     "slide_type": "slide"
    }
   },
   "outputs": [],
   "source": [
    "#Functions to do a polynomial fit, compute the likelihood, and determine the best-fit parameters.\n",
    "#Nothing for you to do, just run.  (But see if you can follow what is going on.)\n",
    "def polynomial_fit(theta, x):\n",
    "    \"\"\"Polynomial model of degree (len(theta) - 1)\"\"\"\n",
    "    # For a polynomial with order 1, this gives theta_0 + theta_1*x\n",
    "    # For a polynomial with order 2, this gives theta_0 + theta_1*x + theta_2*x^2, etc.\n",
    "    return sum(t * x ** n for (n, t) in enumerate(theta))\n",
    "\n",
    "# compute the data log-likelihood given a model\n",
    "def logL(theta, data, model=polynomial_fit):\n",
    "    \"\"\"Gaussian log-likelihood of the model at theta\"\"\"\n",
    "    x, y, sigma_y = data\n",
    "    y_fit = model(theta, x)\n",
    "    return sum(stats.norm.logpdf(*args) for args in zip(y, y_fit, sigma_y))\n",
    "\n",
    "# a direct optimization approach is used to get best model \n",
    "# parameters (which minimize -logL)\n",
    "def best_theta(degree, model=polynomial_fit, data=data):\n",
    "    theta_0 = (degree + 1) * [0]\n",
    "    neg_logL = lambda theta: -logL(theta, data, model)\n",
    "    return optimize.fmin_bfgs(neg_logL, theta_0, disp=False)"
   ]
  },
  {
   "cell_type": "code",
   "execution_count": null,
   "metadata": {
    "slideshow": {
     "slide_type": "slide"
    }
   },
   "outputs": [],
   "source": [
    "#Execute this cell.  See if you understand what it is doing.\n",
    "x, y, sigma_y = data\n",
    "Ndata = x.size\n",
    "\n",
    "# get best-fit parameters for linear, quadratic and cubic models\n",
    "theta1 = best_theta(1, data=data)\n",
    "theta2 = best_theta(2, data=data)\n",
    "theta3 = best_theta(3, data=data)\n",
    "# generate best fit lines on a fine grid \n",
    "xgrid = np.linspace(-0.1, 1.1, 1000)\n",
    "yfit1 = polynomial_fit(theta1, xgrid)\n",
    "yfit2 = polynomial_fit(theta2, xgrid)\n",
    "yfit3 = polynomial_fit(theta3, xgrid)\n",
    "\n",
    "# plot \n",
    "fig, ax = plt.subplots(figsize=(8, 5))\n",
    "ax.errorbar(x, y, sigma_y, fmt='ok', ecolor='gray')\n",
    "ax.plot(xgrid, yfit1, label='best linear model')\n",
    "ax.plot(xgrid, yfit2, label='best quadratic model')\n",
    "ax.plot(xgrid, yfit3, label='best cubic model')\n",
    "ax.legend(loc='best', fontsize=14)\n",
    "ax.set(xlabel='x', ylabel='y', title='data');"
   ]
  },
  {
   "cell_type": "markdown",
   "metadata": {
    "slideshow": {
     "slide_type": "slide"
    }
   },
   "source": [
    "We can use $\\chi^2$ per degree of freedom to determine which fit is \"best\".  It is computed as \n",
    "\n",
    "$$ \\chi^2_\\mathrm{dof}  = \\frac{1}{N-k} \\sum_i^N \\left( \\frac{y - y_\\mathrm{fit}}{\\sigma_y} \\right)^2, $$\n",
    "\n",
    "where $N$ is the number of data points and $k$ is the number of free model parameters (here 2, 3, and 4).\n",
    "\n",
    "For large values of $(N-k)$ (larger than about 10), the distribution of \n",
    "$\\chi^2$ per degre of freedom is approximately Gaussian with a width of\n",
    "$\\sigma=\\sqrt{2/(N-k)}$. "
   ]
  },
  {
   "cell_type": "markdown",
   "metadata": {},
   "source": [
    "<font color='red'>Complete and execute this cell to compute $\\chi^2$ and $\\chi^2_\\mathrm{dof}$.</font>"
   ]
  },
  {
   "cell_type": "code",
   "execution_count": null,
   "metadata": {
    "slideshow": {
     "slide_type": "slide"
    }
   },
   "outputs": [],
   "source": [
    "#Complete and execute this cell to compute chi2: sum{[(y-yfit)/sigma_y]^2} \n",
    "chi21 = np.sum(((y-polynomial_fit(theta1, x))/sigma_y)**2) \n",
    "chi22 = np.sum(((y-polynomial_fit(____, x))/sigma_y)**2) \n",
    "chi23 = np.sum(((y-polynomial_fit(____, x))/sigma_y)**2) \n",
    "# normalize by the number of degrees of freedom\n",
    "# the number of fitted parameters is 2, 3, 4\n",
    "chi2dof1 = chi21/(Ndata - 2)\n",
    "chi2dof2 = chi22/(____)\n",
    "chi2dof3 = chi23/(____)\n",
    "\n",
    "print(\"CHI2:\")\n",
    "print('   best linear model:', chi21)\n",
    "print('best quadratic model:', chi22)\n",
    "print('    best cubic model:', chi23)\n",
    "print(\"CHI2 per degree of freedom:\")\n",
    "print('   best linear model:', chi2dof1)\n",
    "print('best quadratic model:', chi2dof2)\n",
    "print('    best cubic model:', chi2dof3)"
   ]
  },
  {
   "cell_type": "markdown",
   "metadata": {
    "slideshow": {
     "slide_type": "slide"
    }
   },
   "source": [
    "**Which model should we adopt?**\n",
    "\n",
    "Obviously, the cubic model has the lowest $\\chi2$ (\"fits the best\"), but \n",
    "it has 4 free parameters while the linear model has only 2 free parameters.\n",
    "\n",
    "**How do we trade improvement in $\\chi^2$ with increasing model complexity?**\n",
    "\n",
    "**Occam’s razor:**\n",
    "> *All else being equal (i.e., each model fits the data equally well), the less complex model is favored.*\n",
    "\n",
    "This principle was already known to [Ptolemy](https://www.wikiwand.com/en/Ptolemy) (circa 100-170 AD) who said: *“We consider it a good principle to explain the phenomena by the simplest hypothesis possible.”*"
   ]
  },
  {
   "attachments": {
    "image.png": {
     "image/png": "[encoded data removed]"
    }
   },
   "cell_type": "markdown",
   "metadata": {},
   "source": [
    "## Bayesian Model Comparison\n",
    "\n",
    "We start with Bayes' Theorem,\n",
    "\n",
    "$$ \\mathrm{Posterior} = \\frac{\\mathrm{Likelihood}\\times\\mathrm{Prior}}{\\mathrm{Evidence}} $$\n",
    "\n",
    "$$p(M,\\theta \\,|\\,D,I) = \\frac{p(D\\,|\\,M,\\theta,I)\\,\\times p(M,\\theta\\,|\\,I)}{p(D\\,|\\,I)},$$\n",
    "\n",
    "and marginalize over model parameter space $\\theta$\n",
    "to obtain **the probability of model $M$** given the data $D$ and prior information $I$:\n",
    "\n",
    "$$p(M\\,|\\,D,I) \\equiv \\int p(M,\\theta \\,|\\,D,I) \\, d\\theta = \n",
    "      \\int \\frac{p(D\\,|\\,M,\\theta,I)\\,p(M,\\theta\\,|\\,I)}{p(D\\,|\\,I)} \\, d\\theta =\n",
    "      \\frac{p(M\\,|\\,I)}{p(D\\,|\\,I)} \\int p(D\\,|\\,M,\\theta,I)\\,p(\\theta\\,|\\,M,I) \\, d\\theta  $$\n",
    " \n",
    " \n",
    "#### Odds Ratios \\& Bayes Factors\n",
    "\n",
    "To determine which model is better we compute the ratio of the posterior probabilities or the **odds ratio** for two models as\n",
    "\n",
    "$$O_{21} \\equiv \\frac{p(M_2|D,I)}{p(M_1|D,I)}.$$\n",
    "\n",
    "The posterior probability that the model $M$ is correct given data $D$ (a number between 0 and 1) is\n",
    "\n",
    "$$p(M|D,I) = \\frac{p(D|M,I)p(M|I)}{p(D|I)},$$\n",
    "\n",
    "the odds ratio can ignore $p(D|I)$ since it  will be the same for both models.  \n",
    "\n",
    "We get \n",
    "\n",
    "$$O_{21} = \\frac{p(D\\,|\\,M_2,I)\\,p(M_2\\,|\\,I)}{p(D\\,|\\,M_1,I)\\,p(M_1\\,|\\,I)} \\equiv B_{21} \\, \\frac{p(M_2\\,|\\,I)}{p(M_1\\,|\\,I)},$$\n",
    "\n",
    "where $B_{21}$ is called the **Bayes factor**. \n",
    "\n",
    "- The Bayes factor compares how well the models fit the data. \n",
    "- It is a ratio of data likelihoods averaged over all allowed values of the model parameters. \n",
    "- If two models fit the data equally well, the \"winner\" is decided based on priors. \n",
    "\n",
    "For example, consider a noisy image of a source which is equally likely to be a star or a galaxy. \n",
    "The posterior probability that the source is a star will greatly depend on whether we are looking \n",
    "at the Galactic plane or not. \n",
    "\n",
    "#### Bayesian Evidence \n",
    "\n",
    "We can compute \n",
    "\n",
    "$$ E(M) \\equiv p(D\\,|\\,M, I) = \\int p(D\\,|\\,M, \\theta, I) \\, p(\\theta\\,|\\,M, I) \\, d\\theta, $$\n",
    "\n",
    "where $E(M)$ is called **the marginal likelihood for model $M$ (or \"evidence\" or \"fully marginalized likelihood\")** and it quantifies the probability that the  data $D$ would be observed if the model $M$ were the correct model. *Note: the symbol for Bayesian evidence is sometimes $\\mathcal{Z}$; check for context!*\n",
    "\n",
    "The evidence is a weighted average of the likelihood function. with the prior for model parameters acting as the weighting function. \n",
    "\n",
    "#### How do we interpret the values of the odds ratio in practice?\n",
    "\n",
    "**Jeffreys** proposed a scale for interpreting the odds ratio, where $O_{21} > 10$ represents *“strong”* evidence in favor of $M_2$ ($M_2$  is ten times more probable than $M_1$), and $O_{21} > 100$ is *“decisive”* evidence ($M_2$ is one hundred  times more probable than $M_1$). When $O_{21} < 3$, the evidence is *“not worth more than a bare mention.”*\n",
    "\n",
    "The table below uses Bayes factors, which are numerically equivalent to odds ratios whenever we ascribe equal priors odds to our models.\n",
    "\n",
    "![image.png](attachment:image.png)\n",
    "\n",
    "But note:\n",
    "  * These are just **definitions of conventions**, i.e., a way to give a quantitative meaning to qualitative phrases.\n",
    "  * The odds ratio **compares** the models, it doesn't tell us about the *absolute* goodness of fit: model A can be 100x better than model B, but still be pretty lousy.\n",
    "  * Remember: \"***GIGO***\" ***= Garbage In, Garbage Out***. If we use our powerful statistics to rank a bunch of lousy models, that's our fault."
   ]
  },
  {
   "cell_type": "markdown",
   "metadata": {
    "slideshow": {
     "slide_type": "skip"
    }
   },
   "source": [
    "### Hypothesis Testing\n",
    "\n",
    "In *hypothesis testing* we are essentially comparing a model, $M_1$, to its complement.  That is $p(M_1) + p(M_2) = 1$.  If we take $M_1$ to be the \"null\" (default) hypothesis (which is generally that, for example, a correlation does *not* exist), then we are asking whether or not the data reject the null hypothesis.\n",
    "\n",
    "- In **classical hypothesis testing** we can ask whether or not a single model provides a good description of the data.  \n",
    "- In **Bayesian hypothesis testing**, we need to have an alternative model to compare to.\n",
    "\n",
    "---"
   ]
  },
  {
   "cell_type": "markdown",
   "metadata": {},
   "source": [
    "### Example of Cauchy Versus Gaussian Model Comparison <a class=\"anchor\" id=\"twoa\"></a>\n",
    "\n",
    "<font color='red'>Execute the following cell to draw a sample from a Cauchy distribution (remember, it has heavy tails!) and perform Bayesian Model Comparison for Cauchy and Gaussian models.</font> The Bayesian evidence is computed as a direct brute-force numerical integral over parameter space-- no MCMC methods are used here."
   ]
  },
  {
   "cell_type": "code",
   "execution_count": null,
   "metadata": {},
   "outputs": [],
   "source": [
    "# Author: Jake VanderPlas\n",
    "# License: BSD\n",
    "#   The figure produced by this code is published in the textbook\n",
    "#   \"Statistics, Data Mining, and Machine Learning in Astronomy\" (2013)\n",
    "#   For more information, see http://astroML.github.com\n",
    "#   To report a bug or issue, use the following forum:\n",
    "#    https://groups.google.com/forum/#!forum/astroml-general\n",
    "from scipy.stats import cauchy, norm\n",
    "from scipy import integrate\n",
    "\n",
    "#----------------------------------------------------------------------\n",
    "# This function adjusts matplotlib settings for a uniform feel in the textbook.\n",
    "# Note that with usetex=True, fonts are rendered with LaTeX.  This may\n",
    "# result in an error if LaTeX is not installed on your system.  In that case,\n",
    "# you can set usetex to False.\n",
    "from astroML.plotting import setup_text_plots\n",
    "setup_text_plots(fontsize=8, usetex=False)\n",
    "\n",
    "\n",
    "def logL_cauchy(xi, gamma, mu,\n",
    "                mu_min=-10, mu_max=10, sigma_min=0.01, sigma_max=100):\n",
    "    \"\"\"Equation 5.74: cauchy likelihood\"\"\"\n",
    "    xi = np.asarray(xi)\n",
    "    n = xi.size\n",
    "    shape = np.broadcast(gamma, mu).shape\n",
    "\n",
    "    xi = xi.reshape(xi.shape + tuple([1 for s in shape]))\n",
    "\n",
    "    prior_normalization = - (np.log(mu_max - mu_min)\n",
    "                             + np.log(np.log(sigma_max / sigma_min)))\n",
    "\n",
    "    return (prior_normalization\n",
    "            - n * np.log(np.pi)\n",
    "            + (n - 1) * np.log(gamma)\n",
    "            - np.sum(np.log(gamma ** 2 + (xi - mu) ** 2), 0))\n",
    "\n",
    "\n",
    "def logL_gaussian(xi, sigma, mu,\n",
    "                  mu_min=-10, mu_max=10, sigma_min=0.01, sigma_max=100):\n",
    "    \"\"\"Equation 5.57: gaussian likelihood\"\"\"\n",
    "    xi = np.asarray(xi)\n",
    "    n = xi.size\n",
    "    shape = np.broadcast(sigma, mu).shape\n",
    "\n",
    "    xi = xi.reshape(xi.shape + tuple([1 for s in shape]))\n",
    "\n",
    "    prior_normalization = - (np.log(mu_max - mu_min)\n",
    "                             + np.log(np.log(sigma_max / sigma_min)))\n",
    "\n",
    "    return (prior_normalization\n",
    "            - 0.5 * n * np.log(2 * np.pi)\n",
    "            - (n + 1) * np.log(sigma)\n",
    "            - np.sum(0.5 * ((xi - mu) / sigma) ** 2, 0))\n",
    "\n",
    "\n",
    "def calculate_odds_ratio(xi, epsrel=1E-8, epsabs=1E-15):\n",
    "    \"\"\"\n",
    "    Compute the odds ratio by perfoming a double integral\n",
    "    over the likelihood space.\n",
    "    \"\"\"\n",
    "    gauss_Ifunc = lambda mu, sigma: np.exp(logL_gaussian(xi, mu, sigma))\n",
    "    cauchy_Ifunc = lambda mu, gamma: np.exp(logL_cauchy(xi, mu, gamma))\n",
    "\n",
    "    I_gauss, err_gauss = integrate.dblquad(gauss_Ifunc, -np.inf, np.inf,\n",
    "                                           lambda x: 0, lambda x: np.inf,\n",
    "                                           epsabs=epsabs, epsrel=epsrel)\n",
    "    I_cauchy, err_cauchy = integrate.dblquad(cauchy_Ifunc, -np.inf, np.inf,\n",
    "                                             lambda x: 0, lambda x: np.inf,\n",
    "                                             epsabs=epsabs, epsrel=epsrel)\n",
    "\n",
    "    if I_gauss == 0:\n",
    "        O_CG = np.inf\n",
    "        err_O_CG = np.inf\n",
    "    else:\n",
    "        O_CG = I_cauchy / I_gauss\n",
    "        err_O_CG = O_CG * np.sqrt((err_gauss / I_gauss) ** 2)\n",
    "\n",
    "    return (I_gauss, err_gauss), (I_cauchy, err_cauchy), (O_CG, err_O_CG)\n",
    "\n",
    "\n",
    "#------------------------------------------------------------\n",
    "# Draw points from a Cauchy distribution\n",
    "np.random.seed(44)\n",
    "mu = 0\n",
    "gamma = 2\n",
    "xi = cauchy(mu, gamma).rvs(100)\n",
    "\n",
    "#------------------------------------------------------------\n",
    "# compute the odds ratio for the first 10 points\n",
    "((I_gauss, err_gauss),\n",
    " (I_cauchy, err_cauchy),\n",
    " (O_CG, err_O_CG)) = calculate_odds_ratio(xi[:10])\n",
    "\n",
    "print(\"Results for first 10 points:\")\n",
    "print(\"  L(M = Cauchy) = %.2e +/- %.2e\" % (I_cauchy, err_cauchy))\n",
    "print(\"  L(M = Gauss)  = %.2e +/- %.2e\" % (I_gauss, err_gauss))\n",
    "print(\"Bayesian odds ratio of Cauchy-versus-Gaussian Models = %.3g +/- %.3g\" % (O_CG, err_O_CG))\n",
    "\n",
    "#------------------------------------------------------------\n",
    "# calculate the results as a function of number of points\n",
    "Nrange = np.arange(10, 101, 2)\n",
    "Odds = np.zeros(Nrange.shape)\n",
    "for i, N in enumerate(Nrange):\n",
    "    res = calculate_odds_ratio(xi[:N])\n",
    "    Odds[i] = res[2][0]\n",
    "\n",
    "#------------------------------------------------------------\n",
    "# plot the results\n",
    "fig = plt.figure(figsize=(8, 5))\n",
    "fig.subplots_adjust(hspace=0.1)\n",
    "\n",
    "ax1 = fig.add_subplot(211, yscale='log')\n",
    "ax1.plot(Nrange, Odds, '-k')\n",
    "ax1.set_ylabel(r'$O_\\mathrm{CG}$ for $N$ points', fontsize=12)\n",
    "ax1.set_xlim(0, 100)\n",
    "ax1.set_ylim(0.1, 1e24)\n",
    "ax1.xaxis.set_major_formatter(plt.NullFormatter())\n",
    "ax1.yaxis.set_major_locator(plt.LogLocator(base=10000.0))\n",
    "\n",
    "ax2 = fig.add_subplot(212)\n",
    "ax2.scatter(np.arange(1, len(xi) + 1), xi, lw=0, s=16, c='k')\n",
    "ax2.set_xlim(0, 100)\n",
    "ax2.set_xlabel('Sample Size $N$', fontsize=12)\n",
    "ax2.set_ylabel('Sample Value', fontsize=12)\n",
    "\n",
    "plt.show() "
   ]
  },
  {
   "cell_type": "markdown",
   "metadata": {},
   "source": [
    "The odds ratio for the first 10 points is very close to unity ($O_{CG} = 1.45$) and is therefore inconclusive.\n",
    " \n",
    "***Why do we get an inconclusive odds ratio?*** \n",
    "- With only 10 points, the probability of drawing at least one point far away from the mean, which would strongly argue against the Gaussian model, is fairly small. \n",
    "- As the number of data values is increased, the ability to discriminate between the models increases, too. \n",
    "- As the above figure shows, when we increase the size of the observed sample, the odds ratio quickly favors the  Cauchy over the Gaussian model."
   ]
  },
  {
   "cell_type": "markdown",
   "metadata": {
    "slideshow": {
     "slide_type": "slide"
    }
   },
   "source": [
    "### Example of Coin Flip Bayesian Model Comparison <a class=\"anchor\" id=\"twob\"></a>\n",
    "\n",
    "Let's look at an example using coin flips. Let's assume we have $N$ draws and $k$ are \"success\" (say, heads). \n",
    "\n",
    "We will compare two hypotheses:\n",
    "\n",
    "- **M1**: the coin has a known heads probability $b_\\ast$ (say, a fair coin with $b_\\ast=0.5$), with a prior given by a delta function, $\\delta(b-b_\\ast)$,\n",
    "- **M2**: the heads probability $b$ is unknown, with a uniform prior in the range 0–1.\n",
    "\n",
    "Basically in **M1** we know about the fairness of the coin. In **M2** we don't know anything about the fairness of the coin.\n",
    "\n",
    "The model that we need (parametrized by the probability of success $b$, with $k$ successes) is the *binomial distribution*:\n",
    "\n",
    "  $$    p(k\\,|\\,b, N) = \\frac{N!}{k! \\, (N-k)!} \\, b^k \\, (1-b)^{N-k} $$\n",
    "\n",
    "For model **M2** the prior for $b$ is flat in the range 0-1 and the product of the data likelihood and prior is same as above. However, for model **M1** the prior is a  delta function $\\delta(b-b_\\ast)$ and we get for the product of the data likelihood and prior (which picks out $b=b_\\ast$) \n",
    "\n",
    "$$    p(k\\,|\\,b_\\ast, N, M1)\\,p(b|M1, I) = \\frac{N!}{k! \\, (N-k)!} \\, b_\\ast^k \\, (1-b_\\ast)^{N-k}. $$\n",
    "\n",
    "Consequently, the **odds ratio** is given by \n",
    "\n",
    "$$ O_{21} = \\int_0^1 \\left(\\frac{b}{b_\\ast}\\right)^k \\left(\\frac{1-b}{1-b_\\ast}\\right)^{N-k} db, $$\n",
    "\n",
    "as illustrated in the following figure. \n",
    "\n",
    " \n",
    "![Ivezic, Figure 5.1](http://www.astroml.org/_images/fig_odds_ratio_coin_1.png)"
   ]
  },
  {
   "cell_type": "markdown",
   "metadata": {
    "slideshow": {
     "slide_type": "slide"
    }
   },
   "source": [
    "This figure (from the textbook) illustrates the behavior of $O_{21}$ as a function of $k$ for two different values of $N$ and for two different values of $b_\\ast$: $b_\\ast = 0.5$  (**M1**: the coin is fair) and $b_\\ast = 0.1$ (**M1**: the coin is biased to tails). \n",
    "\n",
    "*The ability to distinguish  the two hypothesis **improves** with the sample size.*\n",
    "\n",
    "For example:\n",
    "- when $b_\\ast = 0.5$ and $k/N = 0.1$ ($k=1$ on the left and $k=2$ on the right), the odds ratio in favor of **M2** increases from $\\sim 9$ for $N=10$ to $\\sim 263$ for $N=20$. \n",
    "- when k = $b_\\ast N$, the odds ratio is $0.37$ for $N=10$ and 0.27 for $N=20$. \n",
    "- **the simpler model is favored by the data**, and the support strengthens with the sample size. \n",
    "\n",
    "**NOTE** \n",
    "- *$O_{21}= \\sqrt{\\pi/(2N)}$ when k = $b_\\ast N$ and $b_\\ast = 0.5$.* \n",
    "- To build strong evidence that a coin is fair, $O_{21} < 0.1$, it takes as many as $N > 157$ tosses. \n",
    "- With N = 10,000, the heads probability of a fair coin is measured with a precision of 1% and the corresponding odds ratio is $O_{21} \\approx 1/80$.\n",
    "\n",
    "***Frequentist Versus Bayesian***\n",
    "\n",
    "In the **frequentist approach**, we ask whether we can reject the \"null hypothesis\" that our coin is fair. Specifically, we ask whether a given $k$ is a very unusual outcome (at some significance level $\\alpha$, say $\\alpha=0.05$) for a fair coin with $b_\\ast = 0.5$ and with a given N. \n",
    "\n",
    "In the **Bayesian approach**, we offer an alternative hypothesis that the coin has an unknown heads probability. While this probability can be estimated from provided data ($b_0$), **we consider all the possible values** of $b_0$ when comparing the two proposed hypotheses. "
   ]
  },
  {
   "cell_type": "markdown",
   "metadata": {},
   "source": [
    "## Approximate Bayesian Model Comparison <a class=\"anchor\" id=\"three\"></a>\n",
    "\n",
    "While the full *Odds Ratio* is the ultimate goal, it can be costly to compute. So we have some *approximate methods* that balance between ***goodness of fit*** and ***model complexity***. \n",
    "\n",
    "### Akaike information criterion (AIC) \n",
    "\n",
    "We've seen this before! \n",
    "\n",
    "$${\\rm AIC} \\equiv -2 \\ln [L_0(M)] + 2k + \\frac{2k(k+1)}{N-k-1}.$$\n",
    "\n",
    "### Bayesian information criterion (BIC)\n",
    "\n",
    "- The BIC is new to us. \n",
    "- It can be derived from the Bayesian odds ratio by assuming that the likelihood is Gaussian (see $\\S$5.4.2 in textbook for details). \n",
    "- It's easier to compute than the odds ratio because it is based on the maximum value of the likelihood, $L_0(M)$, rather than on the integration of the likelihood over the full parameter space (i.e. evidence $E(M)$). \n",
    "\n",
    "For $N$ data points and a model with $k$ parameters,\n",
    "\n",
    "$${\\rm BIC} \\equiv -2 \\ln [L_0(M)] + k \\ln N.$$ \n",
    "\n",
    "where \n",
    "- the 1st term is equal to the model's $\\chi^2$ (under the assumption of normality; note that this is not $\\chi^2$ per degree of freedom!) and \n",
    "- the 2nd term on the RHS penalizes complex models relative to simple ones.\n",
    "\n",
    "When two models are compared, **the model with the smaller BIC/AIC value wins**. If the models are equally successful in describing the data (i.e., they have the same value of $L_0(M)$), then the model with fewer free parameters wins. \n",
    "\n",
    "Let's use BIC to choose the best polynomial from the earlier line fitting example. \n",
    "Starting with\n",
    "\n",
    "$${\\rm BIC} = \\chi^2 + k \\ln N,$$ \n",
    "\n",
    "with $N=20$ we have:\n",
    "\n",
    "<pre>\n",
    "     model     chi2    k   k*ln(N)   BIC   \n",
    "     ------------------------------------\n",
    "    linear    11.32    2    5.99    17.31   \n",
    "  quadratic    9.46    3    8.99    18.45   \n",
    "     cubic     8.99    4   11.98    20.97  \n",
    "</pre>\n",
    "\n",
    "Therefore, **the improvement in $\\chi^2$ for the quadratic model**, relative to the linear model, **is not large enough to justify another free model parameter.**\n",
    "\n",
    "**BUT NOTE!** \n",
    "- The BIC and AIC are approximations and might not be valid if the underlying assumptions are not met.\n",
    "- Furthermore, unlike the odds ratio, both of them penalize unconstrained parameters. The odds ratio does not care about unconstrained parameters.\n",
    "- In general, it is better to compute the odds ratio when computationally feasible. "
   ]
  }
 ],
 "metadata": {
  "anaconda-cloud": {},
  "kernelspec": {
   "display_name": "Python [conda env:astr3300] *",
   "language": "python",
   "name": "conda-env-astr3300-py"
  },
  "language_info": {
   "codemirror_mode": {
    "name": "ipython",
    "version": 3
   },
   "file_extension": ".py",
   "mimetype": "text/x-python",
   "name": "python",
   "nbconvert_exporter": "python",
   "pygments_lexer": "ipython3",
   "version": "3.13.1"
  }
 },
 "nbformat": 4,
 "nbformat_minor": 4
}
